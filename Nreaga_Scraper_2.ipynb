{
 "cells": [
  {
   "cell_type": "code",
   "execution_count": 1,
   "metadata": {},
   "outputs": [],
   "source": [
    "\n",
    "from selenium import webdriver\n",
    "from selenium.webdriver.support.ui import WebDriverWait\n",
    "from selenium.webdriver.common.action_chains import ActionChains\n",
    "from selenium.webdriver.common.by import By\n",
    "from selenium.webdriver.support import expected_conditions as ec\n",
    "from selenium.common.exceptions import TimeoutException\n",
    "from selenium.webdriver.firefox.service import Service\n",
    "import time\n",
    "import pandas as pd\n",
    "import random \n",
    "import csv \n",
    "from pathlib import Path\n",
    "\n",
    "\n"
   ]
  },
  {
   "cell_type": "code",
   "execution_count": 2,
   "metadata": {},
   "outputs": [],
   "source": [
    "option = webdriver.FirefoxOptions()\n",
    "option.set_preference(\"browser.download.manager.showWhenStarting\", False)\n",
    "option.set_preference('browser.helperApps.neverAsk.saveToDisk',\n",
    "                       'application/vnd.openxmlformats-officedocument.spreadsheetml.sheet'\n",
    "                       ';application/vnd.ms-excel'\n",
    "                       ';application/xls'\n",
    "                       ';application/xlsx')\n",
    "option.set_preference(\"permissions.default.stylesheet\", 2)\n",
    "option.set_preference(\"permissions.default.image\", 2)\n",
    "option.set_preference(\"javascript.enabled\", False)\n"
   ]
  },
  {
   "cell_type": "code",
   "execution_count": 3,
   "metadata": {},
   "outputs": [],
   "source": [
    "# Open browser and hit the link\n",
    "\n",
    "driver= webdriver.Firefox(options=option)\n",
    "\n",
    "driver.get('https://mnregaweb4.nic.in/netnrega/state_html/empstatusnewall_scst.aspx?page=S&lflag=eng&state_name=UTTAR%20PRADESH&state_code=31&fin_year=2021-2022&source=national&Digest=zSgQ2v/Smh8sUQFJPau9Rg')\n",
    "\n",
    "assert \"NREGA\" in driver.title\n"
   ]
  },
  {
   "cell_type": "code",
   "execution_count": 4,
   "metadata": {},
   "outputs": [],
   "source": [
    "#install lxml to parse entire table into dataframe format \n",
    "# !pip3 install lxml \n"
   ]
  },
  {
   "cell_type": "code",
   "execution_count": 5,
   "metadata": {},
   "outputs": [],
   "source": [
    "\n",
    "##total districts \n",
    "districts = driver.find_elements('xpath', '//*[@id=\"form1\"]/div[3]/center/table/tbody/tr[position()>4]/td[2]/a')\n",
    "\n",
    "District  = [a.text for a in districts ]\n",
    "\n",
    "#print(District)\n",
    "\n",
    "District_urls = [a.get_attribute('href') for a in districts]\n",
    "\n",
    "##all district urls \n",
    "\n",
    "# print(District_urls)\n",
    "\n"
   ]
  },
  {
   "cell_type": "code",
   "execution_count": 6,
   "metadata": {},
   "outputs": [],
   "source": [
    "\n",
    "final_dfs = [] \n",
    "\n",
    "##Now find all the block links for each district \n",
    "\n",
    "## for each district url \n",
    "for i in range(0, len(District_urls), 1): \n",
    "\n",
    "    #click on the district url \n",
    "    \n",
    "    driver.get(District_urls[i])\n",
    "    \n",
    "    time.sleep(1)\n",
    "\n",
    "    ##find all the block links and text and save them for later use \n",
    "    b_urls = driver.find_elements('xpath', '/html/body/form/div[3]/center/table/tbody/tr[position()>4]/td[2]/a')\n",
    "\n",
    "    #block name \n",
    "    block = [a.text for a in b_urls]\n",
    "\n",
    "    #block url \n",
    "    block_urls = [a.get_attribute(\"href\") for a in b_urls]\n",
    "\n",
    "\n",
    "    #local variable to append all the tables into one dataframe    \n",
    "    k =0 \n",
    "\n",
    "    dfs_list=[]\n",
    "    #for district i all block urls are saved in block_urls list \n",
    "    #click on each block url and save the data \n",
    "    for url in block_urls:\n",
    "\n",
    "        # this will print the url of the block which is going to be scraped in district i \n",
    "        urls = \"'\"+url+\"'\"\n",
    "        #print(urls,'\\n')\n",
    "\n",
    "        #this should open the each block url of district i \n",
    "        driver.get(url)\n",
    "\n",
    "        tables = WebDriverWait(driver, 20).until(ec.presence_of_all_elements_located((By.TAG_NAME, \"table\")))\n",
    "\n",
    "        #print(len(tables))\n",
    "\n",
    "        for table in tables:\n",
    "           lst= pd.read_html(table.get_attribute('outerHTML'))\n",
    "        \n",
    "        ##now get the table from a block in all the blocks under a district and save it in the the dataframe \n",
    "        df = pd.DataFrame(lst[0])\n",
    "\n",
    "        #add district name\n",
    "        df['District'] = District[i]\n",
    "\n",
    "        #add block name for district i \n",
    "\n",
    "        df['Block'] = block[k]\n",
    "\n",
    "        ##update the local varriable to update the block \n",
    "\n",
    "        k+= 1\n",
    "\n",
    "        ##merge the dataframe into the previous one \n",
    "        dfs_list.append(df)\n",
    "     \n",
    "        ##This should print all the blocks' tables of a district \n",
    "        #print(dfs_list) \n",
    "\n",
    "        time.sleep(3)\n",
    "        driver.back()\n",
    "    \n",
    "    ##save the data for one district \n",
    "    final_df = pd.concat(dfs_list, axis=0) \n",
    "\n",
    "    #append the district level data into the previous one \n",
    "\n",
    "    final_dfs.append(final_df)\n",
    "\n",
    "    ##go back to previous district \n",
    "    driver.back()\n",
    "\n",
    "#save the entire district data \n",
    "global Final_dataset \n",
    "\n",
    "Final_Dataset = pd.concat(final_dfs, axis=0)\n",
    "\n",
    "Final_Dataset.to_csv(\"trial_Narega.csv\")\n",
    "\n",
    "\n"
   ]
  },
  {
   "cell_type": "code",
   "execution_count": null,
   "metadata": {},
   "outputs": [],
   "source": []
  },
  {
   "cell_type": "code",
   "execution_count": null,
   "metadata": {},
   "outputs": [],
   "source": []
  },
  {
   "cell_type": "code",
   "execution_count": null,
   "metadata": {},
   "outputs": [],
   "source": []
  }
 ],
 "metadata": {
  "kernelspec": {
   "display_name": "Python 3.10.8 64-bit (microsoft store)",
   "language": "python",
   "name": "python3"
  },
  "language_info": {
   "codemirror_mode": {
    "name": "ipython",
    "version": 3
   },
   "file_extension": ".py",
   "mimetype": "text/x-python",
   "name": "python",
   "nbconvert_exporter": "python",
   "pygments_lexer": "ipython3",
   "version": "3.10.9 (tags/v3.10.9:1dd9be6, Dec  6 2022, 20:01:21) [MSC v.1934 64 bit (AMD64)]"
  },
  "orig_nbformat": 4,
  "vscode": {
   "interpreter": {
    "hash": "a5445105e7e69a60b4b9722fff3441ef77bdce92bdef71bf01d4f5c7f1c49175"
   }
  }
 },
 "nbformat": 4,
 "nbformat_minor": 2
}
